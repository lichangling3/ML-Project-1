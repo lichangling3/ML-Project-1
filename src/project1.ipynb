{
 "cells": [
  {
   "cell_type": "markdown",
   "metadata": {},
   "source": [
    "# CS-433 Project 1: ML Higgs \n",
    "Changling Li, Julian Blackwell, Luca Bataillard"
   ]
  },
  {
   "cell_type": "code",
   "execution_count": 4,
   "metadata": {},
   "outputs": [
    {
     "name": "stdout",
     "output_type": "stream",
     "text": [
      "The autoreload extension is already loaded. To reload it, use:\n",
      "  %reload_ext autoreload\n"
     ]
    }
   ],
   "source": [
    "# Useful starting lines\n",
    "%matplotlib inline\n",
    "import numpy as np\n",
    "import matplotlib.pyplot as plt\n",
    "%load_ext autoreload\n",
    "%autoreload 2"
   ]
  },
  {
   "cell_type": "markdown",
   "metadata": {},
   "source": [
    "## Load the training data into feature matrix, class labels, and event ids:"
   ]
  },
  {
   "cell_type": "code",
   "execution_count": 8,
   "metadata": {},
   "outputs": [],
   "source": [
    "from proj1_helpers import *\n",
    "from implementations import *"
   ]
  },
  {
   "cell_type": "code",
   "execution_count": 9,
   "metadata": {},
   "outputs": [],
   "source": [
    "DATA_TRAIN_PATH = '../data/train.csv'\n",
    "y, tx, ids = load_csv_data(DATA_TRAIN_PATH)"
   ]
  },
  {
   "cell_type": "markdown",
   "metadata": {},
   "source": [
    "## Exploratory data analysis"
   ]
  },
  {
   "cell_type": "markdown",
   "metadata": {},
   "source": [
    "### Step 1: Inspecting the labels\n",
    "\n",
    "We begin our data analysis by inspecting the `y` array of labels. According to the documentation, all labels are $-1$ for background 'b' and $1$ is for signal 's'. We check this below:"
   ]
  },
  {
   "cell_type": "code",
   "execution_count": 10,
   "metadata": {},
   "outputs": [
    {
     "data": {
      "text/plain": [
       "True"
      ]
     },
     "execution_count": 10,
     "metadata": {},
     "output_type": "execute_result"
    }
   ],
   "source": [
    "((y == 1) | (y == -1)).all()"
   ]
  },
  {
   "cell_type": "markdown",
   "metadata": {},
   "source": [
    "### Step 2: Inspecting the features"
   ]
  },
  {
   "cell_type": "markdown",
   "metadata": {},
   "source": [
    "We first read appendix B of the original Higgs paper and discover several key points:\n",
    "* All variables are floating point and continuous, apart from `PRI_jet_num`, which ranges in $\\{0, 1, 2, 3\\}$\n",
    "* Undefined values are denoted by the value $-999.0$\n",
    "\n",
    "We inspect the features of `tx` to confirm these claims. We can see that `PRI_jet_num` corresponds to column 22. We decide to do no further processing to this variable and treat it as continuous. We notice several undefinded variables."
   ]
  },
  {
   "cell_type": "code",
   "execution_count": 11,
   "metadata": {},
   "outputs": [
    {
     "name": "stdout",
     "output_type": "stream",
     "text": [
      "Number of rows: 250000\n",
      "Number of columns: 30\n"
     ]
    }
   ],
   "source": [
    "N, D = tx.shape\n",
    "print(f\"Number of rows: {N}\")\n",
    "print(f\"Number of columns: {D}\")"
   ]
  },
  {
   "cell_type": "code",
   "execution_count": 12,
   "metadata": {},
   "outputs": [
    {
     "name": "stdout",
     "output_type": "stream",
     "text": [
      "Column  0: [ 138.47   160.937 -999.     143.905  175.864]\n",
      "Column  1: [ 51.655  68.768 162.172  81.417  16.915]\n",
      "Column  2: [ 97.827 103.235 125.953  80.943 134.805]\n",
      "Column  3: [27.98  48.146 35.635  0.414 16.405]\n",
      "Column  4: [ 9.10e-01 -9.99e+02 -9.99e+02 -9.99e+02 -9.99e+02]\n",
      "Column  5: [ 124.711 -999.    -999.    -999.    -999.   ]\n",
      "Column  6: [   2.666 -999.    -999.    -999.    -999.   ]\n",
      "Column  7: [3.064 3.473 3.148 3.31  3.891]\n",
      "Column  8: [41.928  2.078  9.336  0.414 16.405]\n",
      "Column  9: [197.76  125.157 197.814  75.968  57.983]\n",
      "Column 10: [1.582 0.879 3.776 2.354 1.056]\n",
      "Column 11: [ 1.396  1.414  1.414 -1.285 -1.385]\n",
      "Column 12: [ 2.00e-01 -9.99e+02 -9.99e+02 -9.99e+02 -9.99e+02]\n",
      "Column 13: [32.638 42.014 32.154 22.647 28.209]\n",
      "Column 14: [ 1.017  2.039 -0.705 -1.655 -2.197]\n",
      "Column 15: [ 0.381 -3.011 -2.093  0.01  -2.231]\n",
      "Column 16: [ 51.626  36.918 121.409  53.321  29.774]\n",
      "Column 17: [ 2.273  0.501 -0.953 -0.522  0.798]\n",
      "Column 18: [-2.414  0.103  1.052 -3.1    1.569]\n",
      "Column 19: [16.824 44.704 54.283 31.082  2.723]\n",
      "Column 20: [-0.277 -1.916 -2.186  0.06  -0.871]\n",
      "Column 21: [258.733 164.546 260.414  86.062  53.131]\n",
      "Column 22: [2. 1. 1. 0. 0.]\n",
      "Column 23: [  67.435   46.226   44.251 -999.    -999.   ]\n",
      "Column 24: [ 2.150e+00  7.250e-01  2.053e+00 -9.990e+02 -9.990e+02]\n",
      "Column 25: [ 4.440e-01  1.158e+00 -2.028e+00 -9.990e+02 -9.990e+02]\n",
      "Column 26: [  46.062 -999.    -999.    -999.    -999.   ]\n",
      "Column 27: [   1.24 -999.   -999.   -999.   -999.  ]\n",
      "Column 28: [  -2.475 -999.    -999.    -999.    -999.   ]\n",
      "Column 29: [113.497  46.226  44.251   0.      0.   ]\n"
     ]
    }
   ],
   "source": [
    "for i in range(D):\n",
    "    col = tx[:5, i]\n",
    "    print(f\"Column {i:2d}: {col}\")"
   ]
  },
  {
   "cell_type": "markdown",
   "metadata": {},
   "source": [
    "### Step 3: Summary statistics"
   ]
  },
  {
   "cell_type": "markdown",
   "metadata": {},
   "source": [
    "By computing the summary statistics on the data, we notice that undefined values are not present in all columns. However, in columns where they are present, they comprise a large proportion of the data. There are too many such rows to be simply discarded as outliers, so we will treat them as regular datapoints for the time being.\n",
    "\n",
    "We also notice that each feature follows a very different distribution. To ease model computational cost and improve model performance, we will scale the dataset by subtracting the mean and dividing by the standard deviation. "
   ]
  },
  {
   "cell_type": "code",
   "execution_count": 13,
   "metadata": {},
   "outputs": [
    {
     "name": "stdout",
     "output_type": "stream",
     "text": [
      "Column |   Mean   |  Median  | Std dev  |   Max    |    Min   | # Undefined | % Undefined \n",
      "     0 |  -49.023    406.345    105.012   1192.026   -999.000    38114.000        15.246\n",
      "     1 |   49.240     35.345     46.524    690.075      0.000        0.000         0.000\n",
      "     2 |   81.182     40.829     73.752   1349.351      6.329        0.000         0.000\n",
      "     3 |   57.896     63.656     38.468   2834.999      0.000        0.000         0.000\n",
      "     4 | -708.421    454.480   -999.000      8.503   -999.000   177457.000        70.983\n",
      "     5 | -601.237    657.971   -999.000   4974.979   -999.000   177457.000        70.983\n",
      "     6 | -709.357    453.019   -999.000     16.690   -999.000   177457.000        70.983\n",
      "     7 |    2.373      0.783      2.492      5.684      0.208        0.000         0.000\n",
      "     8 |   18.917     22.273     12.316   2834.999      0.000        0.000         0.000\n",
      "     9 |  158.432    115.706    120.665   1852.462     46.104        0.000         0.000\n",
      "    10 |    1.438      0.845      1.280     19.773      0.047        0.000         0.000\n",
      "    11 |   -0.128      1.194     -0.356      1.414     -1.414        0.000         0.000\n",
      "    12 | -708.985    453.596   -999.000      1.000   -999.000   177457.000        70.983\n",
      "    13 |   38.707     22.412     31.804    764.408     20.000        0.000         0.000\n",
      "    14 |   -0.011      1.214     -0.023      2.497     -2.499        0.000         0.000\n",
      "    15 |   -0.008      1.817     -0.033      3.142     -3.142        0.000         0.000\n",
      "    16 |   46.660     22.065     40.516    560.271     26.000        0.000         0.000\n",
      "    17 |   -0.020      1.265     -0.045      2.503     -2.505        0.000         0.000\n",
      "    18 |    0.044      1.817      0.086      3.142     -3.142        0.000         0.000\n",
      "    19 |   41.717     32.895     34.802   2842.617      0.109        0.000         0.000\n",
      "    20 |   -0.010      1.812     -0.024      3.142     -3.142        0.000         0.000\n",
      "    21 |  209.797    126.499    179.739   2003.976     13.678        0.000         0.000\n",
      "    22 |    0.979      0.977      1.000      3.000      0.000        0.000         0.000\n",
      "    23 | -348.330    532.962     38.960   1120.573   -999.000    99913.000        39.965\n",
      "    24 | -399.254    489.337     -1.872      4.499   -999.000    99913.000        39.965\n",
      "    25 | -399.260    489.333     -2.093      3.141   -999.000    99913.000        39.965\n",
      "    26 | -692.381    479.875   -999.000    721.456   -999.000   177457.000        70.983\n",
      "    27 | -709.122    453.384   -999.000      4.500   -999.000   177457.000        70.983\n",
      "    28 | -709.119    453.388   -999.000      3.142   -999.000   177457.000        70.983\n",
      "    29 |   73.065     98.015     40.513   1633.433      0.000        0.000         0.000\n"
     ]
    }
   ],
   "source": [
    "display_summary_statistics(tx)"
   ]
  },
  {
   "cell_type": "markdown",
   "metadata": {},
   "source": [
    "## Feature processing"
   ]
  },
  {
   "cell_type": "code",
   "execution_count": 17,
   "metadata": {},
   "outputs": [],
   "source": [
    "tx = standardize(tx)"
   ]
  },
  {
   "cell_type": "code",
   "execution_count": 22,
   "metadata": {
    "scrolled": false
   },
   "outputs": [
    {
     "name": "stderr",
     "output_type": "stream",
     "text": [
      "/home/luca/Coding/EPFL/CS-433_ML/ML-Project-1/src/implementations.py:30: RuntimeWarning: divide by zero encountered in log\n",
      "  lhs = y.T.dot(np.log(sig))\n",
      "/home/luca/Coding/EPFL/CS-433_ML/ML-Project-1/src/implementations.py:31: RuntimeWarning: divide by zero encountered in log\n",
      "  rhs = (1 - y).T.dot(np.log(1 - sig))\n"
     ]
    },
    {
     "data": {
      "text/plain": [
       "nan"
      ]
     },
     "execution_count": 22,
     "metadata": {},
     "output_type": "execute_result"
    }
   ],
   "source": [
    "initial_w = np.zeros(D)\n",
    "max_iters = 20\n",
    "gamma = 0.001\n",
    "seed = 30\n",
    "\n",
    "w, loss = reg_logistic_regression(y, tx, 0.1, initial_w, max_iters, gamma)\n",
    "loss"
   ]
  },
  {
   "cell_type": "markdown",
   "metadata": {},
   "source": [
    "## Generate predictions and save ouput in csv format for submission:"
   ]
  },
  {
   "cell_type": "code",
   "execution_count": null,
   "metadata": {},
   "outputs": [],
   "source": [
    "DATA_TEST_PATH = '' # TODO: download train data and supply path here \n",
    "_, tX_test, ids_test = load_csv_data(DATA_TEST_PATH)"
   ]
  },
  {
   "cell_type": "code",
   "execution_count": null,
   "metadata": {},
   "outputs": [],
   "source": [
    "OUTPUT_PATH = '' # TODO: fill in desired name of output file for submission\n",
    "y_pred = predict_labels(weights, tX_test)\n",
    "create_csv_submission(ids_test, y_pred, OUTPUT_PATH)"
   ]
  },
  {
   "cell_type": "code",
   "execution_count": null,
   "metadata": {},
   "outputs": [],
   "source": []
  }
 ],
 "metadata": {
  "interpreter": {
   "hash": "29a4f1eb95a0231e08864ab0a920e96544fd56a70817e0278ae61ac746c86942"
  },
  "kernelspec": {
   "display_name": "Python 3",
   "language": "python",
   "name": "python3"
  },
  "language_info": {
   "codemirror_mode": {
    "name": "ipython",
    "version": 3
   },
   "file_extension": ".py",
   "mimetype": "text/x-python",
   "name": "python",
   "nbconvert_exporter": "python",
   "pygments_lexer": "ipython3",
   "version": "3.7.4"
  }
 },
 "nbformat": 4,
 "nbformat_minor": 2
}

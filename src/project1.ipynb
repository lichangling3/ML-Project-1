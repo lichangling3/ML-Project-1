{
 "cells": [
  {
   "cell_type": "markdown",
   "metadata": {},
   "source": [
    "# CS-433 Project 1: ML Higgs \n",
    "Changling Li, Julian Blackwell, Luca Bataillard"
   ]
  },
  {
   "cell_type": "code",
   "execution_count": 1,
   "metadata": {},
   "outputs": [],
   "source": [
    "# Useful starting lines\n",
    "%matplotlib inline\n",
    "import numpy as np\n",
    "import matplotlib.pyplot as plt\n",
    "%load_ext autoreload\n",
    "%autoreload 2"
   ]
  },
  {
   "cell_type": "markdown",
   "metadata": {},
   "source": [
    "## Load the training data into feature matrix, class labels, and event ids:"
   ]
  },
  {
   "cell_type": "code",
   "execution_count": 2,
   "metadata": {},
   "outputs": [],
   "source": [
    "from proj1_helpers import *\n",
    "from implementations import *"
   ]
  },
  {
   "cell_type": "code",
   "execution_count": 35,
   "metadata": {},
   "outputs": [],
   "source": [
    "DATA_TRAIN_PATH = '../data/train.csv'\n",
    "y, tx, ids = load_csv_data(DATA_TRAIN_PATH)"
   ]
  },
  {
   "cell_type": "markdown",
   "metadata": {},
   "source": [
    "## Exploratory data analysis"
   ]
  },
  {
   "cell_type": "markdown",
   "metadata": {},
   "source": [
    "### Step 1: Inspecting the labels\n",
    "\n",
    "We begin our data analysis by inspecting the `y` array of labels. According to the documentation, all labels are $-1$ for background 'b' and $1$ is for signal 's'. We check this below:"
   ]
  },
  {
   "cell_type": "code",
   "execution_count": 36,
   "metadata": {},
   "outputs": [
    {
     "data": {
      "text/plain": [
       "True"
      ]
     },
     "execution_count": 36,
     "metadata": {},
     "output_type": "execute_result"
    }
   ],
   "source": [
    "((y == 1) | (y == -1)).all()"
   ]
  },
  {
   "cell_type": "markdown",
   "metadata": {},
   "source": [
    "### Step 2: Inspecting the features"
   ]
  },
  {
   "cell_type": "markdown",
   "metadata": {},
   "source": [
    "We first read appendix B of the original Higgs paper and discover several key points:\n",
    "* All variables are floating point and continuous, apart from `PRI_jet_num`, which ranges in $\\{0, 1, 2, 3\\}$\n",
    "* Undefined values are denoted by the value $-999.0$\n",
    "\n",
    "We inspect the features of `tx` to confirm these claims. We can see that `PRI_jet_num` corresponds to column 22. We decide to do no further processing to this variable and treat it as continuous. We notice several undefinded variables."
   ]
  },
  {
   "cell_type": "code",
   "execution_count": 37,
   "metadata": {},
   "outputs": [
    {
     "name": "stdout",
     "output_type": "stream",
     "text": [
      "Number of rows: 250000\n",
      "Number of columns: 30\n"
     ]
    }
   ],
   "source": [
    "N, D = tx.shape\n",
    "print(f\"Number of rows: {N}\")\n",
    "print(f\"Number of columns: {D}\")"
   ]
  },
  {
   "cell_type": "code",
   "execution_count": 38,
   "metadata": {},
   "outputs": [
    {
     "name": "stdout",
     "output_type": "stream",
     "text": [
      "Column  0: [ 138.47   160.937 -999.     143.905  175.864]\n",
      "Column  1: [ 51.655  68.768 162.172  81.417  16.915]\n",
      "Column  2: [ 97.827 103.235 125.953  80.943 134.805]\n",
      "Column  3: [27.98  48.146 35.635  0.414 16.405]\n",
      "Column  4: [ 9.10e-01 -9.99e+02 -9.99e+02 -9.99e+02 -9.99e+02]\n",
      "Column  5: [ 124.711 -999.    -999.    -999.    -999.   ]\n",
      "Column  6: [   2.666 -999.    -999.    -999.    -999.   ]\n",
      "Column  7: [3.064 3.473 3.148 3.31  3.891]\n",
      "Column  8: [41.928  2.078  9.336  0.414 16.405]\n",
      "Column  9: [197.76  125.157 197.814  75.968  57.983]\n",
      "Column 10: [1.582 0.879 3.776 2.354 1.056]\n",
      "Column 11: [ 1.396  1.414  1.414 -1.285 -1.385]\n",
      "Column 12: [ 2.00e-01 -9.99e+02 -9.99e+02 -9.99e+02 -9.99e+02]\n",
      "Column 13: [32.638 42.014 32.154 22.647 28.209]\n",
      "Column 14: [ 1.017  2.039 -0.705 -1.655 -2.197]\n",
      "Column 15: [ 0.381 -3.011 -2.093  0.01  -2.231]\n",
      "Column 16: [ 51.626  36.918 121.409  53.321  29.774]\n",
      "Column 17: [ 2.273  0.501 -0.953 -0.522  0.798]\n",
      "Column 18: [-2.414  0.103  1.052 -3.1    1.569]\n",
      "Column 19: [16.824 44.704 54.283 31.082  2.723]\n",
      "Column 20: [-0.277 -1.916 -2.186  0.06  -0.871]\n",
      "Column 21: [258.733 164.546 260.414  86.062  53.131]\n",
      "Column 22: [2. 1. 1. 0. 0.]\n",
      "Column 23: [  67.435   46.226   44.251 -999.    -999.   ]\n",
      "Column 24: [ 2.150e+00  7.250e-01  2.053e+00 -9.990e+02 -9.990e+02]\n",
      "Column 25: [ 4.440e-01  1.158e+00 -2.028e+00 -9.990e+02 -9.990e+02]\n",
      "Column 26: [  46.062 -999.    -999.    -999.    -999.   ]\n",
      "Column 27: [   1.24 -999.   -999.   -999.   -999.  ]\n",
      "Column 28: [  -2.475 -999.    -999.    -999.    -999.   ]\n",
      "Column 29: [113.497  46.226  44.251   0.      0.   ]\n"
     ]
    }
   ],
   "source": [
    "for i in range(D):\n",
    "    col = tx[:5, i]\n",
    "    print(f\"Column {i:2d}: {col}\")"
   ]
  },
  {
   "cell_type": "markdown",
   "metadata": {},
   "source": [
    "### Step 3: Summary statistics"
   ]
  },
  {
   "cell_type": "markdown",
   "metadata": {},
   "source": [
    "By computing the summary statistics on the data, we notice that undefined values are not present in all columns. However, in columns where they are present, they comprise a large proportion of the data. There are too many such rows to be simply discarded as outliers, so we will treat them as regular datapoints for the time being.\n",
    "\n",
    "We also notice that each feature follows a very different distribution. To ease model computational cost and improve model performance, we will scale the dataset by subtracting the mean and dividing by the standard deviation. "
   ]
  },
  {
   "cell_type": "code",
   "execution_count": 39,
   "metadata": {},
   "outputs": [
    {
     "name": "stdout",
     "output_type": "stream",
     "text": [
      "Column |   Mean   |  Median  | Std dev  |   Max    |    Min   | # Undefined | % Undefined \n",
      "     0 |  -49.023    406.345    105.012   1192.026   -999.000    38114.000        15.246\n",
      "     1 |   49.240     35.345     46.524    690.075      0.000        0.000         0.000\n",
      "     2 |   81.182     40.829     73.752   1349.351      6.329        0.000         0.000\n",
      "     3 |   57.896     63.656     38.468   2834.999      0.000        0.000         0.000\n",
      "     4 | -708.421    454.480   -999.000      8.503   -999.000   177457.000        70.983\n",
      "     5 | -601.237    657.971   -999.000   4974.979   -999.000   177457.000        70.983\n",
      "     6 | -709.357    453.019   -999.000     16.690   -999.000   177457.000        70.983\n",
      "     7 |    2.373      0.783      2.492      5.684      0.208        0.000         0.000\n",
      "     8 |   18.917     22.273     12.316   2834.999      0.000        0.000         0.000\n",
      "     9 |  158.432    115.706    120.665   1852.462     46.104        0.000         0.000\n",
      "    10 |    1.438      0.845      1.280     19.773      0.047        0.000         0.000\n",
      "    11 |   -0.128      1.194     -0.356      1.414     -1.414        0.000         0.000\n",
      "    12 | -708.985    453.596   -999.000      1.000   -999.000   177457.000        70.983\n",
      "    13 |   38.707     22.412     31.804    764.408     20.000        0.000         0.000\n",
      "    14 |   -0.011      1.214     -0.023      2.497     -2.499        0.000         0.000\n",
      "    15 |   -0.008      1.817     -0.033      3.142     -3.142        0.000         0.000\n",
      "    16 |   46.660     22.065     40.516    560.271     26.000        0.000         0.000\n",
      "    17 |   -0.020      1.265     -0.045      2.503     -2.505        0.000         0.000\n",
      "    18 |    0.044      1.817      0.086      3.142     -3.142        0.000         0.000\n",
      "    19 |   41.717     32.895     34.802   2842.617      0.109        0.000         0.000\n",
      "    20 |   -0.010      1.812     -0.024      3.142     -3.142        0.000         0.000\n",
      "    21 |  209.797    126.499    179.739   2003.976     13.678        0.000         0.000\n",
      "    22 |    0.979      0.977      1.000      3.000      0.000        0.000         0.000\n",
      "    23 | -348.330    532.962     38.960   1120.573   -999.000    99913.000        39.965\n",
      "    24 | -399.254    489.337     -1.872      4.499   -999.000    99913.000        39.965\n",
      "    25 | -399.260    489.333     -2.093      3.141   -999.000    99913.000        39.965\n",
      "    26 | -692.381    479.875   -999.000    721.456   -999.000   177457.000        70.983\n",
      "    27 | -709.122    453.384   -999.000      4.500   -999.000   177457.000        70.983\n",
      "    28 | -709.119    453.388   -999.000      3.142   -999.000   177457.000        70.983\n",
      "    29 |   73.065     98.015     40.513   1633.433      0.000        0.000         0.000\n"
     ]
    }
   ],
   "source": [
    "display_summary_statistics(tx)"
   ]
  },
  {
   "cell_type": "markdown",
   "metadata": {},
   "source": [
    "## Feature processing"
   ]
  },
  {
   "cell_type": "code",
   "execution_count": 40,
   "metadata": {},
   "outputs": [],
   "source": [
    "tx = standardize(tx)"
   ]
  },
  {
   "cell_type": "code",
   "execution_count": 85,
   "metadata": {
    "scrolled": false
   },
   "outputs": [
    {
     "name": "stdout",
     "output_type": "stream",
     "text": [
      "Gradient Descent (0/9): loss=173286.79513998044, w=[ 0.28375129 -0.41697064 -0.01667664  0.22843324  0.16806352  0.22753121\n",
      "  0.16676834  0.01452931 -0.01813859  0.18181503 -0.23184037  0.32243466\n",
      "  0.16770757  0.27911078 -0.00111917 -0.00522363 -0.03790594  0.00179902\n",
      "  0.00489486  0.0266557   0.00886952  0.16079532  0.15845656  0.18699793\n",
      "  0.17853236  0.17853091  0.16695815  0.16761137  0.16760042  0.1593424 ]\n",
      "Gradient Descent (1/9): loss=244525.74171709412, w=[ 0.22963669 -0.42546708 -0.00877652 -0.18412621 -0.45057577 -0.29535328\n",
      " -0.45307479  0.35188497 -0.28550267 -0.33282999 -0.37049832  0.03337813\n",
      " -0.45126927  0.24781522 -0.0084681  -0.01099491 -0.19003566 -0.01047879\n",
      "  0.00723302 -0.22734838  0.00598688 -0.34236837 -0.53399718 -0.38674256\n",
      " -0.38313004 -0.38313228 -0.45301797 -0.45145421 -0.45147425 -0.40678597]\n",
      "Gradient Descent (2/9): loss=667944.0811474295, w=[ 6.59132875e-01 -9.49393015e-01 -6.03256421e-02  7.32665774e-01\n",
      "  6.99674652e-01  8.60982224e-01  6.95874256e-01 -6.12800671e-02\n",
      "  1.91977124e-02  6.46624479e-01 -4.45637638e-01  8.10303699e-01\n",
      "  6.98627585e-01  7.32256753e-01  9.78880676e-07 -9.82631438e-03\n",
      "  7.71839562e-02  7.73746732e-03  1.00482703e-02  2.33881134e-01\n",
      "  1.95809053e-02  5.61681764e-01  5.96636398e-01  5.78041990e-01\n",
      "  5.46671354e-01  5.46668136e-01  6.95533826e-01  6.98343837e-01\n",
      "  6.98313358e-01  5.78519350e-01]\n",
      "Gradient Descent (3/9): loss=764342.0274407322, w=[ 0.65902846 -1.01001339 -0.04838435  0.21045169 -0.1138481   0.16034076\n",
      " -0.11893573  0.37534092 -0.29491842 -0.00506429 -0.64593184  0.5094742\n",
      " -0.11525283  0.67331359 -0.00775859 -0.01757276 -0.15533199 -0.00319767\n",
      "  0.01244699 -0.13431803  0.01777027 -0.06104947 -0.23240284 -0.04881045\n",
      " -0.05785005 -0.05785435 -0.11846946 -0.11563012 -0.11567196 -0.12496914]\n",
      "Gradient Descent (4/9): loss=194447.60313425085, w=[ 0.48828454 -0.85740814 -0.12892766  0.43205131  0.22943545  0.5271245\n",
      "  0.22361092  0.18241328 -0.16669805  0.26073657 -0.41366628  0.55104909\n",
      "  0.22783839  0.63900101 -0.0060379  -0.01083934  0.09541479 -0.00165517\n",
      "  0.00940863  0.14424237  0.01225942  0.15692823  0.06478087  0.15321901\n",
      "  0.13326845  0.13327411  0.22490091  0.22740268  0.22735638  0.14020372]\n",
      "Gradient Descent (5/9): loss=287781.58710667776, w=[ 0.39860663 -0.77838975 -0.13047355 -0.00283349 -0.41776507 -0.02364799\n",
      " -0.42475882  0.51182135 -0.4207508  -0.27657726 -0.50114737  0.2019205\n",
      " -0.4196899   0.55415902 -0.01159855 -0.01511226 -0.04217154 -0.0118425\n",
      "  0.01022242 -0.10752387  0.00719967 -0.36603345 -0.63423741 -0.40606587\n",
      " -0.41075587 -0.41075119 -0.42350696 -0.42021166 -0.42026745 -0.44371497]\n",
      "Gradient Descent (6/9): loss=568256.8510210894, w=[ 0.75216273 -1.21193222 -0.19137444  0.86364211  0.68823169  1.09065004\n",
      "  0.6799471   0.09368256 -0.1160663   0.6542622  -0.53060708  0.91639903\n",
      "  0.68595631  0.97844334 -0.00210388 -0.01286042  0.23130617  0.00807984\n",
      "  0.01205045  0.35382952  0.01888272  0.49424718  0.46991262  0.55252522\n",
      "  0.51834544  0.51834895  0.68088955  0.68533655  0.68527039  0.49654763]\n",
      "Gradient Descent (7/9): loss=754650.5913649461, w=[ 0.74539821 -1.25482951 -0.18180321  0.34172389 -0.11754563  0.39722718\n",
      " -0.12711569  0.52491391 -0.42249456  0.00425211 -0.72043945  0.60251867\n",
      " -0.12017824  0.91114254 -0.00970228 -0.02015676  0.00387094 -0.00278234\n",
      "  0.01413704 -0.01134549  0.01671335 -0.12492627 -0.35762371 -0.08007603\n",
      " -0.09245418 -0.09245185 -0.12538312 -0.12089157 -0.12096898 -0.20419191]\n",
      "Gradient Descent (8/9): loss=198844.07696133642, w=[ 0.54985333 -1.04957819 -0.25727799  0.49356918  0.16334006  0.69345024\n",
      "  0.15321658  0.35839426 -0.2846003   0.21159545 -0.47559189  0.5909839\n",
      "  0.16056537  0.83835601 -0.00754452 -0.01312885  0.22915829 -0.00118379\n",
      "  0.01077583  0.21859959  0.01072769  0.04600398 -0.10264872  0.0949377\n",
      "  0.07655566  0.07656791  0.15557961  0.15980518  0.15972357  0.00650139]\n",
      "Gradient Descent (9/9): loss=241287.9660238217, w=[ 0.41243049 -0.87810651 -0.26725325  0.11487256 -0.37025633  0.24209908\n",
      " -0.38140497  0.61782287 -0.4795342  -0.24454006 -0.48614175  0.23537171\n",
      " -0.37331806  0.72333909 -0.01144714 -0.01483475  0.14528769 -0.00970999\n",
      "  0.01057138  0.03276335  0.00416709 -0.4006061  -0.67912641 -0.36437897\n",
      " -0.3684077  -0.36839545 -0.3795049  -0.37415551 -0.37424438 -0.48677999]\n"
     ]
    },
    {
     "data": {
      "text/plain": [
       "(array([ 0.41243049, -0.87810651, -0.26725325,  0.11487256, -0.37025633,\n",
       "         0.24209908, -0.38140497,  0.61782287, -0.4795342 , -0.24454006,\n",
       "        -0.48614175,  0.23537171, -0.37331806,  0.72333909, -0.01144714,\n",
       "        -0.01483475,  0.14528769, -0.00970999,  0.01057138,  0.03276335,\n",
       "         0.00416709, -0.4006061 , -0.67912641, -0.36437897, -0.3684077 ,\n",
       "        -0.36839545, -0.3795049 , -0.37415551, -0.37424438, -0.48677999]),\n",
       " 241287.9660238217)"
      ]
     },
     "execution_count": 85,
     "metadata": {},
     "output_type": "execute_result"
    }
   ],
   "source": [
    "initial_w = np.zeros(D)\n",
    "max_iters = 10\n",
    "gamma = 0.00001\n",
    "seed = 30\n",
    "\n",
    "y[y < 0] = 0\n",
    "\n",
    "w, loss = logistic_regression(y, tx, initial_w, max_iters, gamma, verbose=True)\n",
    "w, loss"
   ]
  },
  {
   "cell_type": "code",
   "execution_count": 84,
   "metadata": {},
   "outputs": [
    {
     "data": {
      "text/plain": [
       "(array([0., 1.]), array([153882,  96118]))"
      ]
     },
     "execution_count": 84,
     "metadata": {},
     "output_type": "execute_result"
    }
   ],
   "source": [
    "pred = tx.dot(w)\n",
    "pred[pred < 0.5] = 0\n",
    "pred[pred >= 0.5] = 1\n",
    "np.unique(np.abs(pred - y), return_counts=True)"
   ]
  },
  {
   "cell_type": "markdown",
   "metadata": {},
   "source": [
    "## Generate predictions and save ouput in csv format for submission:"
   ]
  },
  {
   "cell_type": "code",
   "execution_count": 25,
   "metadata": {},
   "outputs": [],
   "source": [
    "DATA_TEST_PATH = '../data/test.csv' # TODO: download train data and supply path here \n",
    "_, tX_test, ids_test = load_csv_data(DATA_TEST_PATH)"
   ]
  },
  {
   "cell_type": "code",
   "execution_count": 26,
   "metadata": {},
   "outputs": [],
   "source": [
    "OUTPUT_PATH = 'test.csv' # TODO: fill in desired name of output file for submission\n",
    "y_pred = predict_labels(weights, tX_test)\n",
    "create_csv_submission(ids_test, y_pred, OUTPUT_PATH)"
   ]
  },
  {
   "cell_type": "code",
   "execution_count": null,
   "metadata": {},
   "outputs": [],
   "source": []
  }
 ],
 "metadata": {
  "interpreter": {
   "hash": "29a4f1eb95a0231e08864ab0a920e96544fd56a70817e0278ae61ac746c86942"
  },
  "kernelspec": {
   "display_name": "Python 3",
   "language": "python",
   "name": "python3"
  },
  "language_info": {
   "codemirror_mode": {
    "name": "ipython",
    "version": 3
   },
   "file_extension": ".py",
   "mimetype": "text/x-python",
   "name": "python",
   "nbconvert_exporter": "python",
   "pygments_lexer": "ipython3",
   "version": "3.7.4"
  }
 },
 "nbformat": 4,
 "nbformat_minor": 2
}
